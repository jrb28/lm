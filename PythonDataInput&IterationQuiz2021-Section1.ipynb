{
 "cells": [
  {
   "cell_type": "markdown",
   "metadata": {},
   "source": [
    "# Overall Directions\n",
    "\n",
    "- You have this class session to complete the five problems below.\n",
    "- Submit the quiz to Blackboard on the Assignment page to the assignment named \"Test: Python Data Input & Iteration\" by the end of the session.\n",
    "- Feel free to use extra cells for experimentation and prototypes of your solutions but <b><i>please comment out all statements that print out data that are not solutions</i></b> prior to submission.\n",
    "\n",
    "\n",
    "During this test:\n",
    "\n",
    "- You may refer to any class materials, including lecture notes, personal notes, and assignments.\n",
    "- You may use Google, but you will most likely find that class materials are more relevant to this test and a more time efficient resource.\n",
    "- You may not communicate with any other person, besides the professor, during this test by any mode of communication. \n",
    "\n",
    "Before starting on the quiz, please execute the cell below to import <font face='courier new'>matplotlib</font> and provide for the rendering of <font face='courier new'>matplotlib</font> images in this Jupyter notebook."
   ]
  },
  {
   "cell_type": "code",
   "execution_count": null,
   "metadata": {},
   "outputs": [],
   "source": [
    "%matplotlib inline\n",
    "import matplotlib.pyplot as plt"
   ]
  },
  {
   "cell_type": "markdown",
   "metadata": {},
   "source": [
    "# Problem 1 (20 points)\n",
    "\n",
    "The data in <font face = 'courier new'>dist.csv</font> gives the distances in miles for all pairwise combinations of 11 locations.  The file has 11 rows, each with 11 elements.  Input these data into a list of lists following these guidelines:\n",
    "\n",
    "- Denote the list of lists with the variable name <font face = 'courier new'>dist</font> \n",
    "- The list of lists should have 11 sublists.  Each sublist should contain 11 elements from one row of the input file.\n",
    "- Use <font face = 'courier new'>for</font> loops to accomplish this task.\n",
    "- Convert the data elements to a numerical data type using the most appropriate data type given how the data are formatted in the data file.\n",
    "- Leave the <font face='courier'>print</font> statement that has already been provided."
   ]
  },
  {
   "cell_type": "code",
   "execution_count": null,
   "metadata": {},
   "outputs": [],
   "source": [
    "''' Put your code here to input the data and create the list of lists '''\n",
    "\n",
    "\n",
    "\n",
    "\n",
    "''' Statement to print the list of lists named dist '''\n",
    "print(dist)"
   ]
  },
  {
   "cell_type": "markdown",
   "metadata": {},
   "source": [
    "# Problem 2 (20 points)\n",
    "\n",
    "Perform the same task as you did in <b>Problem 1</b> with list comprehension.\n",
    "\n",
    "- You may perform the data input and cleansing prior to the list comprehension statement if you desire.\n",
    "- Please leave the <font face='courier'>print</font> statement in the last line of the cell intact."
   ]
  },
  {
   "cell_type": "code",
   "execution_count": null,
   "metadata": {},
   "outputs": [],
   "source": [
    "dist = []\n",
    "\n",
    "''' Put your code here to create the list of lists dist using list comprehension '''\n",
    "\n",
    "\n",
    "\n",
    "''' Statement to print the list of lists named dist '''\n",
    "print(dist)"
   ]
  },
  {
   "cell_type": "markdown",
   "metadata": {},
   "source": [
    "# Problem 3 (20 points)\n",
    "\n",
    "In this problem you will do the following:\n",
    "\n",
    "- Read a data file named <font face = 'courier new'>imageQ.txt</font> that contains grayscale data of an image.\n",
    "- Put that data into a list of lists, named <font face = 'courier new'>image</font>, with 72 sublists and 93 integers in each sublist using <font face = 'courier new'>for</font> loops.  \n",
    "  * The pixel values are integers ranging from 0 through 255.\n",
    "  * The dimensions of the list of lists corresponds with an image that is 72 pixels tall by 93 pixels wide.\n",
    "- The data in the file are arranged such that the file rows correspond to the rows of pixels.  For example, the first 93 elements are the 0-th row, the next 93 elements are the 1st row, and so on.\n",
    "- Please leave the last three lines in the cell intact: these will render the image.\n",
    "- Successful completion of this task will result in an image that is familiar."
   ]
  },
  {
   "cell_type": "code",
   "execution_count": null,
   "metadata": {},
   "outputs": [],
   "source": [
    "numRows = 72\n",
    "numColumns = 93\n",
    "\n",
    "''' Put your code here to create the list of lists '''\n",
    "\n",
    "\n",
    "\n",
    "\n",
    "''' Code to plot the list of lists named image '''\n",
    "plt.figure(figsize = (2.66,2.06))\n",
    "plt.imshow(image, cmap = 'gray', vmin = 0, vmax = 255)\n",
    "plt.show()"
   ]
  },
  {
   "cell_type": "markdown",
   "metadata": {},
   "source": [
    "# Problem 4 (20 points)\n",
    "\n",
    "Perform the same task as described in <b>Problem 3</b>, but with list comprehension.\n",
    "\n",
    "- Please leave the last three lines in the cell intact: these will render the image.\n",
    "- Successful completion of this task will result in an image that is familiar."
   ]
  },
  {
   "cell_type": "code",
   "execution_count": null,
   "metadata": {},
   "outputs": [],
   "source": [
    "numRows = 72\n",
    "numColumns = 93\n",
    "image = []\n",
    "\n",
    "''' Put your code here to create the list of lists image using list comprehension '''\n",
    "\n",
    "\n",
    "\n",
    "\n",
    "''' Code to plot the list of lists named dist '''\n",
    "plt.figure(figsize = (2.66,2.06))\n",
    "plt.imshow(image, cmap = 'gray', vmin = 0, vmax = 255)\n",
    "plt.show()"
   ]
  },
  {
   "cell_type": "markdown",
   "metadata": {},
   "source": [
    "# Problem 5 (20 points)\n",
    "\n",
    "The file <font face='courier'>countries.csv</font> contains data about the population and land area (in square miles) for the countries of the world.\n",
    "\n",
    "Read this data file and construct a dictionary named <font face='courier'>country</font> with countries as keys and population per square mile as the values.\n",
    "\n",
    "You may use <font face='courier'>for</font> loops or list comprehension."
   ]
  },
  {
   "cell_type": "code",
   "execution_count": null,
   "metadata": {},
   "outputs": [],
   "source": [
    "\n",
    "\n",
    "print(country)"
   ]
  },
  {
   "cell_type": "markdown",
   "metadata": {},
   "source": [
    "# Extra Credit (10 points)\n",
    "\n",
    "With the dictionary <font face='courier'>country</font> defined in the problem above, use list comprehension to create a list of tuples where each tuple contains a country name and its population in square miles.  Order the tuples in descending order of population per square mile.  Call this list of tuples <font face='courier'>country_sort</font>."
   ]
  },
  {
   "cell_type": "code",
   "execution_count": null,
   "metadata": {},
   "outputs": [],
   "source": [
    "\n",
    "\n",
    "print(country_sort)"
   ]
  }
 ],
 "metadata": {
  "kernelspec": {
   "display_name": "Python 3",
   "language": "python",
   "name": "python3"
  },
  "language_info": {
   "codemirror_mode": {
    "name": "ipython",
    "version": 3
   },
   "file_extension": ".py",
   "mimetype": "text/x-python",
   "name": "python",
   "nbconvert_exporter": "python",
   "pygments_lexer": "ipython3",
   "version": "3.8.5"
  }
 },
 "nbformat": 4,
 "nbformat_minor": 2
}
